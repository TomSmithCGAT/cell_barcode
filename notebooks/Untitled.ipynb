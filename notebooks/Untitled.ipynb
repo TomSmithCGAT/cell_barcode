{
 "cells": [
  {
   "cell_type": "code",
   "execution_count": 1,
   "metadata": {
    "collapsed": true
   },
   "outputs": [],
   "source": [
    "import re"
   ]
  },
  {
   "cell_type": "code",
   "execution_count": 14,
   "metadata": {
    "collapsed": true
   },
   "outputs": [],
   "source": [
    "infile = \"test.bam\"\n",
    "infile2 = \"test.sam\"\n",
    "infile3 = \"test.fastq\""
   ]
  },
  {
   "cell_type": "code",
   "execution_count": 16,
   "metadata": {},
   "outputs": [
    {
     "name": "stdout",
     "output_type": "stream",
     "text": [
      "<_sre.SRE_Match object; span=(0, 8), match='test.bam'>\n",
      "None\n",
      "<_sre.SRE_Match object; span=(0, 8), match='test.bam'>\n",
      "<_sre.SRE_Match object; span=(0, 8), match='test.sam'>\n",
      "<_sre.SRE_Match object; span=(0, 10), match='test.fastq'>\n"
     ]
    }
   ],
   "source": [
    "print(re.match(\".*\\.bam\", infile))\n",
    "print(re.match(\".*\\.sam\", infile))\n",
    "print(re.match(\".*\\.[sb]am$\", infile))\n",
    "print(re.match(\".*\\.[sb]am$\", infile2))\n",
    "print(re.match(\".*\\.fastq|fastq.gz|fastq.1|fastq.1.gz|fastq.2|fastq.2.gz$\", infile3))"
   ]
  },
  {
   "cell_type": "code",
   "execution_count": 17,
   "metadata": {
    "collapsed": true
   },
   "outputs": [],
   "source": [
    "import pysam"
   ]
  },
  {
   "cell_type": "code",
   "execution_count": 20,
   "metadata": {
    "collapsed": true
   },
   "outputs": [],
   "source": [
    "inbam = \"/home/FILESERVER5/proteomics/tss38/git_repos/cell_barcode/run/mapped/hgmm_100_hg_mm.bam\"\n",
    "outbam = \"/home/FILESERVER5/proteomics/tss38/git_repos/cell_barcode/run/mapped/test_out.bam\""
   ]
  },
  {
   "cell_type": "code",
   "execution_count": 32,
   "metadata": {
    "collapsed": true
   },
   "outputs": [],
   "source": [
    "infile = pysam.Samfile(inbam, \"rb\")\n",
    "for read in infile.fetch():\n",
    "    pass"
   ]
  },
  {
   "cell_type": "code",
   "execution_count": 22,
   "metadata": {
    "collapsed": true
   },
   "outputs": [],
   "source": [
    "outfile = pysam.Samfile(outbam, \"wb\", template=infile)"
   ]
  },
  {
   "cell_type": "code",
   "execution_count": 37,
   "metadata": {},
   "outputs": [
    {
     "name": "stdout",
     "output_type": "stream",
     "text": [
      "ST-K00126:308:HFLYFBBXX:1:2210:8126:27461_AHAHAHAHHH_TGATAATCAG\t16\t494\t331312\t60\t98M\t-1\t-1\t98\tAATATTATCCTAGTAAAAAATTTTCAGTGGTCCCCATAGTAAGCAGATCAAGTCCAAGGTGTTACCACGCCTTCCATGACTATGTGTGTGTGTGTGTG\tarray('B', [37, 41, 41, 37, 37, 37, 41, 41, 41, 41, 41, 41, 41, 41, 41, 41, 37, 41, 41, 41, 41, 37, 37, 27, 37, 41, 41, 41, 37, 41, 41, 41, 41, 41, 41, 41, 41, 41, 41, 41, 41, 41, 41, 37, 37, 37, 37, 32, 32, 41, 27, 41, 41, 41, 41, 22, 32, 37, 41, 41, 41, 41, 37, 41, 41, 32, 41, 41, 41, 37, 37, 37, 41, 41, 41, 37, 41, 41, 22, 41, 41, 41, 41, 41, 41, 41, 41, 41, 41, 41, 41, 41, 41, 37, 37, 32, 27, 32])\t[('AS', 0), ('XN', 0), ('XM', 0), ('XO', 0), ('XG', 0), ('NM', 0), ('MD', '98'), ('YT', 'UU'), ('NH', 1)]\n",
      "ST-K00126:308:HFLYFBBXX:1:2210:8126:27461_AHAHAHAHHH_TGATAATCAG\t16\t494\t331312\t60\t98M\t-1\t-1\t98\tAATATTATCCTAGTAAAAAATTTTCAGTGGTCCCCATAGTAAGCAGATCAAGTCCAAGGTGTTACCACGCCTTCCATGACTATGTGTGTGTGTGTGTG\tarray('B', [37, 41, 41, 37, 37, 37, 41, 41, 41, 41, 41, 41, 41, 41, 41, 41, 37, 41, 41, 41, 41, 37, 37, 27, 37, 41, 41, 41, 37, 41, 41, 41, 41, 41, 41, 41, 41, 41, 41, 41, 41, 41, 41, 37, 37, 37, 37, 32, 32, 41, 27, 41, 41, 41, 41, 22, 32, 37, 41, 41, 41, 41, 37, 41, 41, 32, 41, 41, 41, 37, 37, 37, 41, 41, 41, 37, 41, 41, 22, 41, 41, 41, 41, 41, 41, 41, 41, 41, 41, 41, 41, 41, 41, 37, 37, 32, 27, 32])\t[('AS', 0), ('XN', 0), ('XM', 0), ('XO', 0), ('XG', 0), ('NM', 0), ('MD', '98'), ('YT', 'UU'), ('NH', 1)]\n",
      "FJJFFFJJJJJJJJJJFJJJJFF<FJJJFJJJJJJJJJJJJJJFFFFAAJ<JJJJ7AFJJJJFJJAJJJFFFJJJFJJ7JJJJJJJJJJJJJJFFA<A\n",
      "array('B', [37, 41, 41, 37, 37, 37, 41, 41, 41, 41, 41, 41, 41, 41, 41, 41, 37, 41, 41, 41, 41, 37, 37, 27, 37, 41, 41, 41, 37, 41, 41, 41, 41, 41, 41, 41, 41, 41, 41, 41, 41, 41, 41, 37, 37, 37, 37, 32, 32, 41, 27, 41, 41, 41, 41, 22, 32, 37, 41, 41, 41, 41, 37, 41, 41, 32, 41, 41, 41, 37, 37, 37, 41, 41, 41, 37, 41, 41, 22, 41, 41, 41, 41, 41, 41, 41, 41, 41, 41, 41, 41, 41, 41, 37, 37, 32, 27, 32])\n",
      "AATATTATCCTAGTAAAAAATTTTCAGTGGTCCCCATAGTAAGCAGATCAAGTCCAAGGTGTTACCACGCCTTCCATGACTATGTGTGTGTGTGTGTG\n"
     ]
    }
   ],
   "source": [
    "print(read)\n",
    "read_id = read.query_name\n",
    "read_id = read_id.split(\"_\")\n",
    "cell = read_id[-2]\n",
    "umi = read_id[-1]\n",
    "read_name = \"_\".join(read_id[:-2])\n",
    "\n",
    "\n",
    "new_cell = \"AHAHAHAHHH\"\n",
    "new_umi = umi\n",
    "\n",
    "new_read_id = \"_\".join([read_name, new_cell, new_umi])\n",
    "\n",
    "read.query_name = new_read_id\n",
    "print(read)\n",
    "print(read.qual)\n",
    "print(read.query_qualities)\n",
    "print(read.query_sequence)"
   ]
  }
 ],
 "metadata": {
  "kernelspec": {
   "display_name": "Python 3",
   "language": "python",
   "name": "python3"
  },
  "language_info": {
   "codemirror_mode": {
    "name": "ipython",
    "version": 3
   },
   "file_extension": ".py",
   "mimetype": "text/x-python",
   "name": "python",
   "nbconvert_exporter": "python",
   "pygments_lexer": "ipython3",
   "version": "3.5.3"
  }
 },
 "nbformat": 4,
 "nbformat_minor": 2
}
