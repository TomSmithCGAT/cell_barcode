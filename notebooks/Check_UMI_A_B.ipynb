{
 "cells": [
  {
   "cell_type": "markdown",
   "metadata": {},
   "source": [
    "Here we want to check two specific relationships which we will use for the deduplication of UMIs.\n",
    "\n",
    "First, we assume that the relationship between counts for UMIs A and B, where A = true and B = error is predictable. To test this, we will look for examples where there all the UMIs for a gene fall are adjacent to one another (i.e the most abundant is true and all adj. are errors; we will discard cases with > 10 UMIs).\n",
    "\n",
    "Second, we assume that the # read per UMI is independent on gene expression level. We need to work out how to test this. We may have to resort to our heuristic dedup (possibly run group and count on the same bam and correlate group counts with gene expression?)"
   ]
  },
  {
   "cell_type": "markdown",
   "metadata": {},
   "source": [
    "First, let's parse a grouped 10X BAM summary flatfile and identify these genes with all adj UMIs."
   ]
  },
  {
   "cell_type": "code",
   "execution_count": 1,
   "metadata": {
    "collapsed": true
   },
   "outputs": [],
   "source": [
    "import pysam\n",
    "import collections\n",
    "import pandas as pd\n",
    "import umi_tools._dedup_umi as dedup_umi\n",
    "%load_ext rpy2.ipython\n",
    "%matplotlib inline  "
   ]
  },
  {
   "cell_type": "code",
   "execution_count": 2,
   "metadata": {
    "collapsed": true
   },
   "outputs": [],
   "source": [
    "%%R\n",
    "library(ggplot2)\n",
    "my_theme <- theme_bw() + theme(text=element_text(size=20), aspect.ratio=1)"
   ]
  },
  {
   "cell_type": "code",
   "execution_count": 3,
   "metadata": {
    "collapsed": true
   },
   "outputs": [],
   "source": [
    "infile = \"../run/mapped/\""
   ]
  },
  {
   "cell_type": "markdown",
   "metadata": {},
   "source": [
    "The groups are ordered by gene then cell. Thus, if we observed more than one groups before the cell changes, we can skip the cell entirely"
   ]
  },
  {
   "cell_type": "code",
   "execution_count": 6,
   "metadata": {},
   "outputs": [
    {
     "name": "stdout",
     "output_type": "stream",
     "text": [
      "1\n"
     ]
    }
   ],
   "source": [
    "print(dedup_umi.edit_distance(bytes(\"ATATG\", encoding=\"utf-8\"), bytes(\"ATATT\", encoding=\"utf-8\")))"
   ]
  },
  {
   "cell_type": "code",
   "execution_count": 7,
   "metadata": {},
   "outputs": [
    {
     "ename": "FileNotFoundError",
     "evalue": "[Errno 2] No such file or directory: '../run/mapped/testing_group_t_3k.bam'",
     "output_type": "error",
     "traceback": [
      "\u001b[0;31m---------------------------------------------------------------------------\u001b[0m",
      "\u001b[0;31mFileNotFoundError\u001b[0m                         Traceback (most recent call last)",
      "\u001b[0;32m<ipython-input-7-976bf1d677d5>\u001b[0m in \u001b[0;36m<module>\u001b[0;34m()\u001b[0m\n\u001b[1;32m      1\u001b[0m \u001b[0mreads_per_group\u001b[0m \u001b[0;34m=\u001b[0m \u001b[0mcollections\u001b[0m\u001b[0;34m.\u001b[0m\u001b[0mCounter\u001b[0m\u001b[0;34m(\u001b[0m\u001b[0;34m)\u001b[0m\u001b[0;34m\u001b[0m\u001b[0m\n\u001b[1;32m      2\u001b[0m \u001b[0;34m\u001b[0m\u001b[0m\n\u001b[0;32m----> 3\u001b[0;31m \u001b[0;32mwith\u001b[0m \u001b[0mopen\u001b[0m\u001b[0;34m(\u001b[0m\u001b[0minfile\u001b[0m\u001b[0;34m,\u001b[0m \u001b[0;34m\"r\"\u001b[0m\u001b[0;34m)\u001b[0m \u001b[0;32mas\u001b[0m \u001b[0minf\u001b[0m\u001b[0;34m:\u001b[0m\u001b[0;34m\u001b[0m\u001b[0m\n\u001b[0m\u001b[1;32m      4\u001b[0m     \u001b[0mheader\u001b[0m\u001b[0;34m=\u001b[0m\u001b[0mnext\u001b[0m\u001b[0;34m(\u001b[0m\u001b[0minf\u001b[0m\u001b[0;34m)\u001b[0m\u001b[0;34m\u001b[0m\u001b[0m\n\u001b[1;32m      5\u001b[0m     \u001b[0mfirst_line\u001b[0m \u001b[0;34m=\u001b[0m \u001b[0mnext\u001b[0m\u001b[0;34m(\u001b[0m\u001b[0minf\u001b[0m\u001b[0;34m)\u001b[0m\u001b[0;34m\u001b[0m\u001b[0m\n",
      "\u001b[0;31mFileNotFoundError\u001b[0m: [Errno 2] No such file or directory: '../run/mapped/testing_group_t_3k.bam'"
     ]
    }
   ],
   "source": [
    "reads_per_group = collections.Counter()\n",
    "\n",
    "with open(infile, \"r\") as inf:\n",
    "    header=next(inf)\n",
    "    first_line = next(inf)\n",
    "    read_id, contig, pos, gene, umi, n_umi, final_umi, n_final_umi, unique_id = first_line.strip().split(\"\\t\")\n",
    "    previous_group = unique_id\n",
    "    for line in inf:\n",
    "        read_id, contig, pos, gene, umi, n_umi, final_umi, n_final_umi, unique_id = line.strip().split(\"\\t\")\n",
    "        if unique_id != previous_group:\n",
    "            reads_per_group[n_final_umi] += 1\n",
    "            previous_group = unique_id\n",
    "print(len(reads_per_group))"
   ]
  },
  {
   "cell_type": "code",
   "execution_count": 172,
   "metadata": {},
   "outputs": [
    {
     "name": "stdout",
     "output_type": "stream",
     "text": [
      "  num     freq  fraction\n",
      "0   1  2151506  0.695927\n",
      "1   2   692412  0.223968\n",
      "2   3   188041  0.060824\n",
      "3   4    45454  0.014703\n",
      "4   5    10587  0.003424\n"
     ]
    }
   ],
   "source": [
    "reads_per_group_df = pd.DataFrame.from_records(reads_per_group.most_common(), columns=[\"num\", \"freq\"])\n",
    "reads_per_group_df['fraction'] = [x/sum(reads_per_group_df['freq']) for x in reads_per_group_df['freq']]\n",
    "print(reads_per_group_df.head())"
   ]
  },
  {
   "cell_type": "code",
   "execution_count": 125,
   "metadata": {},
   "outputs": [
    {
     "data": {
      "text/plain": [
       "  num    freq     fraction\n",
       "0   1 2151506 0.6959268902\n",
       "1   2  692412 0.2239678299\n",
       "2   3  188041 0.0608238082\n",
       "3   4   45454 0.0147025669\n",
       "4   5   10587 0.0034244748\n",
       "5   6    2490 0.0008054163\n"
      ]
     },
     "metadata": {},
     "output_type": "display_data"
    },
    {
     "data": {
      "image/png": "[encoded data removed]"
     },
     "metadata": {},
     "output_type": "display_data"
    },
    {
     "data": {
      "image/png": "[encoded data removed]"
     },
     "metadata": {},
     "output_type": "display_data"
    }
   ],
   "source": [
    "%%R -i reads_per_group_df\n",
    "print(head(reads_per_group_df))\n",
    "p <- ggplot(reads_per_group_df, aes(as.numeric(as.character(num)), log(freq,10))) +\n",
    "geom_point() + my_theme + xlab(\"# reads per UMI-gene group\") + ylab(\"Log10(Frequency)\")\n",
    "print(p)\n",
    "\n",
    "p <- ggplot(reads_per_group_df, aes(as.numeric(as.character(num)),fraction)) +\n",
    "geom_point() + my_theme + xlab(\"# reads per UMI-gene group\") + ylab(\"Fraction UMI-gene groups\")\n",
    "print(p)"
   ]
  },
  {
   "cell_type": "code",
   "execution_count": 94,
   "metadata": {},
   "outputs": [
    {
     "name": "stdout",
     "output_type": "stream",
     "text": [
      "4359148\n"
     ]
    }
   ],
   "source": [
    "rows = []\n",
    "with open(infile, \"r\") as inf:\n",
    "    header=next(inf)\n",
    "    first_line = next(inf)\n",
    "    #print(header)\n",
    "    #print(first_line)\n",
    "    read_id, contig, pos, gene, umi, n_umi, final_umi, n_final_umi, unique_id = first_line.strip().split(\"\\t\")\n",
    "    cell = read_id.split(\"_\")[-2]\n",
    "    #print(cell, unique_id)\n",
    "    previous_gene = gene\n",
    "    previous_cell = cell\n",
    "    cell_group = unique_id\n",
    "    umi_counts = collections.Counter()\n",
    "    umi_counts[umi] += 1\n",
    "    skip_cell = None\n",
    "    n = 0\n",
    "    n2 = 0\n",
    "    for line in inf:\n",
    "        n+=1\n",
    "        #print(line)\n",
    "        read_id, contig, pos, gene, umi, n_umi, final_umi, n_final_umi, unique_id = line.strip().split(\"\\t\")\n",
    "        cell = read_id.split(\"_\")[-2]\n",
    "        #print(cell, unique_id)\n",
    "        \n",
    "        if cell == skip_cell:\n",
    "            #print(\"skipping..\")\n",
    "            #break\n",
    "            continue\n",
    "        \n",
    "        if gene != previous_gene or cell != previous_cell:\n",
    "            if len(umi_counts) > 1:\n",
    "                if not skip_cell:\n",
    "                    n2 += 1\n",
    "                    #print(line)\n",
    "                    #print(\"skip_cell\", skip_cell)\n",
    "                    #print(gene, previous_gene, cell, previous_cell, umi_counts)\n",
    "                    top_umi, top_count = umi_counts.most_common()[0]\n",
    "                    for error_umi, error_count in umi_counts.most_common()[1:]:\n",
    "                        if dedup_umi.edit_distance(\n",
    "                            bytes(top_umi, encoding=\"utf-8\"), bytes(error_umi, encoding=\"utf-8\")) == 1:\n",
    "                            rows.append([top_count, error_count])\n",
    "                    #if n2 > 1000:\n",
    "                    #    break\n",
    "                else:\n",
    "                    pass\n",
    "                    #print(\"this was a skipped cell\")\n",
    "                    #print(skip_cell)\n",
    "                    #print(gene, previous_gene, cell, previous_cell, umi_counts)\n",
    "            \n",
    "            previous_gene = gene\n",
    "            previous_cell = cell\n",
    "            cell_group = unique_id\n",
    "            umi_counts = collections.Counter()\n",
    "            umi_counts[umi] += 1\n",
    "            skip_cell = None\n",
    "        \n",
    "        else:\n",
    "            if unique_id != cell_group:\n",
    "                #print(unique_id, cell_group)\n",
    "                skip_cell = cell\n",
    "                #print(\"set up skipping for cell:\", skip_cell)\n",
    "                \n",
    "            umi_counts[umi] += 1\n",
    "print(n)\n"
   ]
  },
  {
   "cell_type": "code",
   "execution_count": 95,
   "metadata": {},
   "outputs": [
    {
     "name": "stdout",
     "output_type": "stream",
     "text": [
      "   true_count  error_count\n",
      "0           1            1\n",
      "1           1            1\n",
      "2           2            1\n",
      "3           2            1\n",
      "4           1            1\n"
     ]
    }
   ],
   "source": [
    "final_df = pd.DataFrame.from_records(rows, columns=[\"true_count\", \"error_count\"])\n",
    "print(final_df.head())"
   ]
  },
  {
   "cell_type": "code",
   "execution_count": 176,
   "metadata": {
    "collapsed": true
   },
   "outputs": [],
   "source": [
    "tab_true = pd.DataFrame(final_df['true_count'].value_counts())\n",
    "tab_true.columns = [\"num_times_error\"]\n",
    "reads_per_group_df['num'] = reads_per_group_df['num'].astype(int)\n",
    "reads_per_group_df = reads_per_group_df.merge(tab_true, left_on=\"num\", right_index=True, how=\"inner\")\n"
   ]
  },
  {
   "cell_type": "code",
   "execution_count": 128,
   "metadata": {},
   "outputs": [
    {
     "data": {
      "text/plain": [
       "[1] 1099    2\n"
      ]
     },
     "metadata": {},
     "output_type": "display_data"
    }
   ],
   "source": [
    "%%R -i final_df\n",
    "print(dim(final_df))"
   ]
  },
  {
   "cell_type": "code",
   "execution_count": 179,
   "metadata": {},
   "outputs": [
    {
     "data": {
      "text/plain": [
       "  num    freq    fraction num_times_error\n",
       "0   1 2151506 0.695926890             706\n",
       "1   2  692412 0.223967830             286\n",
       "2   3  188041 0.060823808              85\n",
       "3   4   45454 0.014702567              18\n",
       "4   5   10587 0.003424475               4\n"
      ]
     },
     "metadata": {},
     "output_type": "display_data"
    },
    {
     "data": {
      "image/png": "[encoded data removed]"
     },
     "metadata": {},
     "output_type": "display_data"
    }
   ],
   "source": [
    "%%R -i reads_per_group_df\n",
    "\n",
    "print(head(reads_per_group_df))\n",
    "p <- ggplot(reads_per_group_df, aes(num, num_times_error/freq)) + geom_point() + my_theme +\n",
    "\n",
    "print(p)"
   ]
  },
  {
   "cell_type": "code",
   "execution_count": 132,
   "metadata": {},
   "outputs": [
    {
     "data": {
      "text/plain": [
       "  true_count error_count\n",
       "0          1           1\n",
       "1          1           1\n",
       "2          2           1\n",
       "3          2           1\n",
       "4          1           1\n",
       "5          1           1\n",
       "  num    freq     fraction\n",
       "0   1 2151506 0.6959268902\n",
       "1   2  692412 0.2239678299\n",
       "2   3  188041 0.0608238082\n",
       "3   4   45454 0.0147025669\n",
       "4   5   10587 0.0034244748\n",
       "5   6    2490 0.0008054163\n",
       "\n",
       "  1   2   3   4   5 \n",
       "706 286  85  18   4 \n"
      ]
     },
     "metadata": {},
     "output_type": "display_data"
    },
    {
     "data": {
      "image/png": "[encoded data removed]"
     },
     "metadata": {},
     "output_type": "display_data"
    },
    {
     "data": {
      "image/png": "[encoded data removed]"
     },
     "metadata": {},
     "output_type": "display_data"
    }
   ],
   "source": [
    "%%R -i final_df \n",
    "library(ggplot2)\n",
    "print(head(final_df))\n",
    "\n",
    "\n",
    "\n",
    "\n",
    "p <- ggplot(final_df, aes(true_count, 1)) + stat_summary(geom=\"bar\", fun.y=sum) +\n",
    "my_theme + xlab(\"# reads for true UMI\") + ylab(\"# times an error is observed\")\n",
    "print(p)\n",
    "\n",
    "p <- ggplot(final_df, aes(true_count, error_count, group=true_count)) + geom_boxplot() +\n",
    "my_theme + xlab(\"# reads for true UMI\") + ylab(\"# reads for error UMI\")\n",
    "print(p)"
   ]
  }
 ],
 "metadata": {
  "kernelspec": {
   "display_name": "Python 3",
   "language": "python",
   "name": "python3"
  },
  "language_info": {
   "codemirror_mode": {
    "name": "ipython",
    "version": 3
   },
   "file_extension": ".py",
   "mimetype": "text/x-python",
   "name": "python",
   "nbconvert_exporter": "python",
   "pygments_lexer": "ipython3",
   "version": "3.5.3"
  }
 },
 "nbformat": 4,
 "nbformat_minor": 2
}
