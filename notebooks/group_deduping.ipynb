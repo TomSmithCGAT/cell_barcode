{
 "cells": [
  {
   "cell_type": "markdown",
   "metadata": {},
   "source": [
    "Here we want to develop code to perform bespoke deduplication using the output from ``umi_tools group``"
   ]
  },
  {
   "cell_type": "code",
   "execution_count": 42,
   "metadata": {
    "collapsed": true
   },
   "outputs": [],
   "source": [
    "import pysam\n",
    "import collections\n",
    "import copy\n",
    "from time import gmtime, strftime"
   ]
  },
  {
   "cell_type": "code",
   "execution_count": 11,
   "metadata": {
    "collapsed": true
   },
   "outputs": [],
   "source": [
    "infile = \"/home/FILESERVER5/proteomics/tss38/git_repos/cell_barcode/run/mapped/hgmm_100_hg_mm_grouped.bam\""
   ]
  },
  {
   "cell_type": "code",
   "execution_count": 23,
   "metadata": {},
   "outputs": [],
   "source": [
    "read_ids = set()\n",
    "gene2reads = collections.defaultdict(set)\n",
    "\n",
    "for read in pysam.Samfile(infile, \"rb\").fetch():\n",
    "    read_name = read.query_name\n",
    "    read_id, cell, umi = read_name.split(\"_\")\n",
    "    \n",
    "    # remove the redundant first three sections to save space\n",
    "    short_read_id = \":\".join(read_id.split(\":\")[3:]) \n",
    "    \n",
    "    try:\n",
    "        gene = read.get_tag(\"XT\")\n",
    "    except:\n",
    "        continue # no gene assigned\n",
    "\n",
    "    read_ids.add(short_read_id)\n",
    "    gene2reads[gene].add(short_read_id)"
   ]
  },
  {
   "cell_type": "code",
   "execution_count": 21,
   "metadata": {},
   "outputs": [
    {
     "name": "stdout",
     "output_type": "stream",
     "text": [
      "ST-K00126:308:HFLYFBBXX:6:1211:6532:28991_TGGCCAGCACCTTGTC_ACTAGCGAGC\t272\t0\t182539\t1\t98M\t-1\t-1\t98\tCCAGCAACTGCTGGCCTGTGCCAGGGTGCAAGCTGAGCACTGGAGTGGAGTTTTCCTGTGGAGAGGAGCCATGCCTAGAGTGGGATGGGCCATTGTTC\tarray('B', [41, 41, 41, 41, 41, 41, 41, 41, 37, 41, 37, 41, 41, 41, 41, 41, 41, 41, 41, 41, 41, 41, 41, 41, 41, 41, 41, 41, 41, 41, 41, 41, 41, 41, 41, 41, 41, 41, 41, 41, 37, 41, 41, 41, 41, 41, 41, 41, 41, 41, 41, 41, 41, 41, 41, 37, 41, 41, 41, 41, 41, 41, 41, 37, 41, 41, 41, 41, 41, 41, 41, 41, 41, 41, 41, 41, 41, 37, 41, 41, 41, 41, 32, 37, 32, 41, 41, 37, 41, 41, 37, 41, 41, 37, 37, 32, 27, 32])\t[('AS', 0), ('ZS', 0), ('XN', 0), ('XM', 0), ('XO', 0), ('XG', 0), ('NM', 0), ('MD', '98'), ('YT', 'UU'), ('NH', 8), ('XS', 'Assigned'), ('XN', 1), ('XT', 'ENSG00000279928'), ('UG', 171959), ('BX', 'ACTAGCGAGC')]\n"
     ]
    }
   ],
   "source": [
    "print(read)"
   ]
  },
  {
   "cell_type": "code",
   "execution_count": 24,
   "metadata": {},
   "outputs": [
    {
     "name": "stdout",
     "output_type": "stream",
     "text": [
      "4204636\n",
      "24323\n",
      "24323\n"
     ]
    }
   ],
   "source": [
    "print(len(read_ids))\n",
    "print(len(gene2reads))\n",
    "print(len(gene2readCounts))"
   ]
  },
  {
   "cell_type": "code",
   "execution_count": 53,
   "metadata": {},
   "outputs": [
    {
     "name": "stdout",
     "output_type": "stream",
     "text": [
      "100 ENSMUSG00000061477 7721 7721 2893059 24225 2017-08-23 08:44:53\n",
      "200 ENSMUSG00000025967 3576 3576 2365665 24125 2017-08-23 08:45:27\n",
      "300 ENSG00000104529 2065 2065 2094963 24025 2017-08-23 08:45:56\n",
      "400 ENSG00000113387 1476 1476 1923739 23925 2017-08-23 08:46:19\n",
      "500 ENSG00000085662 1172 1172 1793232 23825 2017-08-23 08:46:43\n",
      "600 ENSG00000130204 957 957 1687772 23725 2017-08-23 08:47:04\n",
      "700 ENSMUSG00000063694 828 828 1598531 23625 2017-08-23 08:47:25\n",
      "800 ENSG00000178127 725 725 1520963 23525 2017-08-23 08:47:45\n",
      "900 ENSMUSG00000064326 654 654 1452139 23425 2017-08-23 08:48:04\n",
      "1000 ENSG00000241685 593 593 1389826 23325 2017-08-23 08:48:23\n",
      "2000 ENSG00000031698 292 292 984199 22325 2017-08-23 08:51:06\n",
      "3000 ENSG00000147419 188 188 751032 21325 2017-08-23 08:53:03\n",
      "4000 ENSG00000174684 135 135 591262 20325 2017-08-23 08:54:40\n",
      "5000 ENSG00000072958 102 102 474055 19325 2017-08-23 08:56:02\n",
      "6000 ENSG00000163848 79 79 383971 18325 2017-08-23 08:57:11\n",
      "7000 ENSG00000153094 64 64 312711 17325 2017-08-23 08:58:12\n",
      "8000 ENSG00000138801 52 52 255115 16325 2017-08-23 08:59:04\n",
      "9000 ENSG00000163684 43 43 207621 15325 2017-08-23 08:59:46\n",
      "10000 ENSG00000155304 36 36 168408 14325 2017-08-23 09:00:22\n",
      "11000 ENSMUSG00000022779 30 30 135789 13325 2017-08-23 09:00:53\n",
      "12000 ENSMUSG00000006262 25 25 108589 12325 2017-08-23 09:01:17\n",
      "13000 ENSMUSG00000032633 21 21 85774 11325 2017-08-23 09:01:37\n",
      "14000 ENSG00000138767 17 17 66838 10325 2017-08-23 09:01:54\n",
      "15000 ENSMUSG00000031511 14 14 51263 9325 2017-08-23 09:02:08\n",
      "16000 ENSMUSG00000037624 12 12 38413 8325 2017-08-23 09:02:18\n",
      "17000 ENSG00000146826 9 9 27945 7325 2017-08-23 09:02:26\n",
      "18000 ENSG00000103168 7 7 19550 6325 2017-08-23 09:02:32\n",
      "19000 ENSMUSG00000036555 6 6 13035 5325 2017-08-23 09:02:36\n",
      "20000 ENSMUSG00000035969 4 4 8224 4325 2017-08-23 09:02:39\n",
      "21000 ENSG00000163072 3 3 4814 3325 2017-08-23 09:02:41\n",
      "22000 ENSG00000162040 2 2 2512 2325 2017-08-23 09:02:42\n",
      "23000 ENSG00000198690 1 1 1068 1325 2017-08-23 09:02:43\n",
      "24000 ENSG00000204334 1 1 68 325 2017-08-23 09:02:44\n",
      "24068\n"
     ]
    }
   ],
   "source": [
    "keep_genes = set()\n",
    "read_ids2 = copy.copy(read_ids)\n",
    "gene2reads2 =  copy.copy(gene2reads)\n",
    "n = 0\n",
    "while len(read_ids2) > 0:\n",
    "    #if n >= 100:\n",
    "    #    break\n",
    "    n+=1\n",
    "    \n",
    "    top_gene = None\n",
    "    top_gene_count = 0\n",
    "    \n",
    "    for gene in gene2reads2.keys():\n",
    "        if len(gene2reads2[gene]) > top_gene_count:\n",
    "            top_gene_count = len(gene2reads2[gene])\n",
    "            top_gene = gene\n",
    "    \n",
    "    keep_genes.add(top_gene)\n",
    "    removed_reads = gene2reads2[top_gene]\n",
    "    \n",
    "    read_ids2 = read_ids2.difference(removed_reads)\n",
    "    \n",
    "    if n%1000 == 0 or (n < 1000 and n%100 == 0):\n",
    "        print(n, top_gene, len(gene2reads2[top_gene]), len(removed_reads),\n",
    "              len(read_ids2), len(gene2reads2), strftime(\"%Y-%m-%d %H:%M:%S\", gmtime()))\n",
    "    \n",
    "    del gene2reads2[top_gene]\n",
    "    \n",
    "    for gene in gene2reads2.keys():\n",
    "        #if gene2reads2[gene].difference(removed_reads) != gene2reads2[gene]:\n",
    "        #    print(n)\n",
    "        #    print(gene, top_gene, len(gene2reads2[gene]), len(gene2reads2[gene].difference(removed_reads)))\n",
    "        #    raise ValueError()\n",
    "        gene2reads2[gene] = gene2reads2[gene].difference(removed_reads)\n",
    "\n",
    "    #if len(read_ids2)<1000:\n",
    "    #    break\n",
    "        \n",
    "print(n)"
   ]
  }
 ],
 "metadata": {
  "kernelspec": {
   "display_name": "Python 3",
   "language": "python",
   "name": "python3"
  },
  "language_info": {
   "codemirror_mode": {
    "name": "ipython",
    "version": 3
   },
   "file_extension": ".py",
   "mimetype": "text/x-python",
   "name": "python",
   "nbconvert_exporter": "python",
   "pygments_lexer": "ipython3",
   "version": "3.5.3"
  }
 },
 "nbformat": 4,
 "nbformat_minor": 2
}
