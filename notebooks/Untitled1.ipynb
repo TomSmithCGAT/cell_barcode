{
 "cells": [
  {
   "cell_type": "code",
   "execution_count": 1,
   "metadata": {
    "collapsed": true
   },
   "outputs": [],
   "source": [
    "import pstats\n"
   ]
  },
  {
   "cell_type": "code",
   "execution_count": 13,
   "metadata": {},
   "outputs": [
    {
     "name": "stdout",
     "output_type": "stream",
     "text": [
      "Wed Jul 12 15:23:13 2017    /home/FILESERVER5/proteomics/tss38/git_repos/cell_barcode/run/test_cprofile\n",
      "\n",
      "         61644873 function calls (61635159 primitive calls) in 82.496 seconds\n",
      "\n",
      "   Ordered by: internal time\n",
      "   List reduced from 3973 to 10 due to restriction <10>\n",
      "\n",
      "   ncalls  tottime  percall  cumtime  percall filename:lineno(function)\n",
      "    23809   48.165    0.002   48.165    0.002 {method 'compress' of 'zlib.Compress' objects}\n",
      "  2000004    4.997    0.000   13.696    0.000 /home/FILESERVER5/proteomics/tss38/UMI-tools/umi_tools/umi_methods.py:87(fastqIterate)\n",
      "  1000001    4.120    0.000    7.649    0.000 /home/FILESERVER5/proteomics/tss38/UMI-tools/umi_tools/umi_methods.py:535(_getBarcodesString)\n",
      "  8003309    2.946    0.000    5.841    0.000 {method 'readline' of '_io.TextIOWrapper' objects}\n",
      "  1000001    2.520    0.000   12.551    0.000 /home/FILESERVER5/proteomics/tss38/UMI-tools/umi_tools/umi_methods.py:780(__call__)\n",
      "        1    2.369    2.369   81.283   81.283 /home/FILESERVER5/proteomics/tss38/UMI-tools/umi_tools/extract.py:199(main)\n",
      "  2000002    1.643    0.000    2.381    0.000 /home/FILESERVER5/proteomics/tss38/UMI-tools/umi_tools/umi_methods.py:383(addBarcodesToIdentifier)\n",
      "  8000008    1.535    0.000    1.535    0.000 /home/FILESERVER5/proteomics/tss38/UMI-tools/umi_tools/umi_methods.py:90(convert2string)\n",
      "  1000002    1.215    0.000   15.665    0.000 /home/FILESERVER5/proteomics/tss38/UMI-tools/umi_tools/umi_methods.py:114(joinedFastqIterate)\n",
      "  9056825    1.112    0.000    1.112    0.000 /home/FILESERVER5/proteomics/tss38/anaconda3/lib/python3.5/gzip.py:296(closed)\n",
      "\n",
      "\n"
     ]
    },
    {
     "data": {
      "text/plain": [
       "<pstats.Stats at 0x7f892beace80>"
      ]
     },
     "execution_count": 13,
     "metadata": {},
     "output_type": "execute_result"
    }
   ],
   "source": [
    "p = pstats.Stats('/home/FILESERVER5/proteomics/tss38/git_repos/cell_barcode/run/test_cprofile')\n",
    "p.sort_stats('tottime').print_stats(10)"
   ]
  },
  {
   "cell_type": "code",
   "execution_count": 18,
   "metadata": {},
   "outputs": [
    {
     "name": "stdout",
     "output_type": "stream",
     "text": [
      "Wed Jul 12 15:31:01 2017    /home/FILESERVER5/proteomics/tss38/git_repos/cell_barcode/run/test_cprofile\n",
      "\n",
      "         60454355 function calls (60444641 primitive calls) in 35.282 seconds\n",
      "\n",
      "   Ordered by: internal time\n",
      "   List reduced from 3960 to 10 due to restriction <10>\n",
      "\n",
      "   ncalls  tottime  percall  cumtime  percall filename:lineno(function)\n",
      "  2000004    4.821    0.000   13.236    0.000 /home/FILESERVER5/proteomics/tss38/UMI-tools/umi_tools/umi_methods.py:87(fastqIterate)\n",
      "  1000001    4.066    0.000    7.471    0.000 /home/FILESERVER5/proteomics/tss38/UMI-tools/umi_tools/umi_methods.py:535(_getBarcodesString)\n",
      "        2    3.084    1.542    3.084    1.542 {method 'close' of '_io.TextIOWrapper' objects}\n",
      "  8003309    2.883    0.000    5.686    0.000 {method 'readline' of '_io.TextIOWrapper' objects}\n",
      "  1000001    2.371    0.000   12.208    0.000 /home/FILESERVER5/proteomics/tss38/UMI-tools/umi_tools/umi_methods.py:780(__call__)\n",
      "        1    2.364    2.364   33.990   33.990 /home/FILESERVER5/proteomics/tss38/UMI-tools/umi_tools/extract.py:199(main)\n",
      "  2000002    1.645    0.000    2.365    0.000 /home/FILESERVER5/proteomics/tss38/UMI-tools/umi_tools/umi_methods.py:383(addBarcodesToIdentifier)\n",
      "  8000008    1.453    0.000    1.453    0.000 /home/FILESERVER5/proteomics/tss38/UMI-tools/umi_tools/umi_methods.py:90(convert2string)\n",
      "  1000002    1.172    0.000   15.140    0.000 /home/FILESERVER5/proteomics/tss38/UMI-tools/umi_tools/umi_methods.py:114(joinedFastqIterate)\n",
      "  4002910    0.993    0.000    0.993    0.000 {method 'split' of 'str' objects}\n",
      "\n",
      "\n"
     ]
    },
    {
     "data": {
      "text/plain": [
       "<pstats.Stats at 0x7f892adfbe80>"
      ]
     },
     "execution_count": 18,
     "metadata": {},
     "output_type": "execute_result"
    }
   ],
   "source": [
    "p = pstats.Stats('/home/FILESERVER5/proteomics/tss38/git_repos/cell_barcode/run/test_cprofile')\n",
    "p.sort_stats('tottime').print_stats(10)"
   ]
  }
 ],
 "metadata": {
  "kernelspec": {
   "display_name": "Python 3",
   "language": "python",
   "name": "python3"
  },
  "language_info": {
   "codemirror_mode": {
    "name": "ipython",
    "version": 3
   },
   "file_extension": ".py",
   "mimetype": "text/x-python",
   "name": "python",
   "nbconvert_exporter": "python",
   "pygments_lexer": "ipython3",
   "version": "3.5.3"
  }
 },
 "nbformat": 4,
 "nbformat_minor": 2
}
